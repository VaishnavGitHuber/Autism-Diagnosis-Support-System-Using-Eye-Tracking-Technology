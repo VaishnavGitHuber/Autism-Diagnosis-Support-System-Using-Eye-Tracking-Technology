{
  "nbformat": 4,
  "nbformat_minor": 0,
  "metadata": {
    "colab": {
      "provenance": [],
      "gpuType": "T4"
    },
    "kernelspec": {
      "name": "python3",
      "display_name": "Python 3"
    },
    "language_info": {
      "name": "python"
    },
    "accelerator": "GPU"
  },
  "cells": [
    {
      "cell_type": "markdown",
      "source": [
        "## Multimodal Predictive Framework for Autism Diagnosis Using Eye-Tracking Scan Path Image Analysis\n",
        "### `Vaishnav Krishna P`"
      ],
      "metadata": {
        "id": "FCzfMi-CZ6Si"
      }
    },
    {
      "cell_type": "markdown",
      "source": [
        "### 1. IMPORTS & DRIVE MOUNT"
      ],
      "metadata": {
        "id": "KGEIRwzWiDtK"
      }
    },
    {
      "cell_type": "code",
      "source": [
        "import os\n",
        "import cv2\n",
        "import numpy as np\n",
        "import pandas as pd\n",
        "import matplotlib.pyplot as plt\n",
        "from google.colab import files\n",
        "import pickle\n",
        "\n",
        "from sklearn.preprocessing import StandardScaler\n",
        "from sklearn.model_selection import train_test_split\n",
        "from sklearn.utils import class_weight\n",
        "\n",
        "import tensorflow as tf\n",
        "from tensorflow.keras.models import load_model\n",
        "from tensorflow.keras import layers, Input, Model, regularizers\n",
        "from google.colab import drive"
      ],
      "metadata": {
        "id": "dMc9GZk-iAIF"
      },
      "execution_count": 38,
      "outputs": []
    },
    {
      "cell_type": "code",
      "source": [
        "drive.mount('/content/drive')"
      ],
      "metadata": {
        "colab": {
          "base_uri": "https://localhost:8080/"
        },
        "id": "WnA5pEcpiKR_",
        "outputId": "998d82b5-f289-426b-9e0f-380a89418f9a"
      },
      "execution_count": 4,
      "outputs": [
        {
          "output_type": "stream",
          "name": "stdout",
          "text": [
            "Drive already mounted at /content/drive; to attempt to forcibly remount, call drive.mount(\"/content/drive\", force_remount=True).\n"
          ]
        }
      ]
    },
    {
      "cell_type": "markdown",
      "source": [
        "### 2. DEFINE PATHS"
      ],
      "metadata": {
        "id": "0kfU1_jSiR7f"
      }
    },
    {
      "cell_type": "code",
      "source": [
        "# Set paths for images and metadata CSV\n",
        "img_dir = '/content/drive/MyDrive/Images'\n",
        "meta_path = '/content/Metadata_Participants.csv'"
      ],
      "metadata": {
        "id": "r023nYz9iNnO"
      },
      "execution_count": 5,
      "outputs": []
    },
    {
      "cell_type": "markdown",
      "source": [
        "### 3. LOAD & PREPROCESS METADATA"
      ],
      "metadata": {
        "id": "fuaHV_h_iefe"
      }
    },
    {
      "cell_type": "code",
      "source": [
        "metadata = pd.read_csv(meta_path)"
      ],
      "metadata": {
        "id": "gqZjw4WniXbL"
      },
      "execution_count": 6,
      "outputs": []
    },
    {
      "cell_type": "code",
      "source": [
        "metadata = metadata[['ParticipantID', 'Gender', 'Age', 'Class', 'CARS Score']]"
      ],
      "metadata": {
        "id": "XW4HMSWyii1N"
      },
      "execution_count": 7,
      "outputs": []
    },
    {
      "cell_type": "code",
      "source": [
        "# convert the categorical to numerical\n",
        "metadata['Gender'] = metadata['Gender'].map({'M': 1, 'F': 0})\n",
        "metadata['Class'] = metadata['Class'].map({'TS': 1, 'TC': 0})"
      ],
      "metadata": {
        "id": "G4i3Dn08ik2r"
      },
      "execution_count": 8,
      "outputs": []
    },
    {
      "cell_type": "code",
      "source": [
        "# Rename columns\n",
        "metadata.rename(columns={\n",
        "    'ParticipantID': 'Participant_ID',\n",
        "    'Class': 'Group',\n",
        "    'CARS Score': 'CARS'\n",
        "}, inplace=True)"
      ],
      "metadata": {
        "id": "1Ws9OvTzinMH"
      },
      "execution_count": 9,
      "outputs": []
    },
    {
      "cell_type": "code",
      "source": [
        "# Drop rows with missing CARS scores\n",
        "metadata = metadata.dropna(subset=['CARS']).copy()"
      ],
      "metadata": {
        "id": "8xoqovBsipv7"
      },
      "execution_count": 10,
      "outputs": []
    },
    {
      "cell_type": "markdown",
      "source": [
        "### 4. LOAD IMAGES & MATCH WITH METADATA"
      ],
      "metadata": {
        "id": "uFjcNI7ai8ro"
      }
    },
    {
      "cell_type": "code",
      "source": [
        "image_data, meta_data, labels = [], [], []\n",
        "img_height, img_width = 128, 128"
      ],
      "metadata": {
        "id": "A9qrlDhVqx0q"
      },
      "execution_count": 11,
      "outputs": []
    },
    {
      "cell_type": "code",
      "source": [
        "# Iterate through folders for both classes\n",
        "for cls_folder in ['TCImages', 'TSImages']:\n",
        "    folder_path = os.path.join(img_dir, cls_folder)\n",
        "    label = 0 if cls_folder == 'TCImages' else 1\n",
        "\n",
        "    for filename in os.listdir(folder_path):\n",
        "        if filename.endswith('.png'):\n",
        "            # Extract participant ID\n",
        "            parts = filename.split('_')\n",
        "            pid = int(parts[1].split('.')[0])\n",
        "\n",
        "            # Find matching metadata row\n",
        "            row = metadata[metadata['Participant_ID'] == pid]\n",
        "            if not row.empty:\n",
        "                # Load and preprocess image\n",
        "                path = os.path.join(folder_path, filename)\n",
        "                img = cv2.imread(path, cv2.IMREAD_GRAYSCALE)\n",
        "                img = cv2.resize(img, (img_width, img_height))\n",
        "                img = img / 255.0\n",
        "\n",
        "                # Append image and metadata\n",
        "                image_data.append(img)\n",
        "                meta = row[['Age', 'Gender', 'CARS']].values[0]\n",
        "                meta_data.append(meta)\n",
        "                labels.append(label)"
      ],
      "metadata": {
        "id": "3yorRqtMi34_"
      },
      "execution_count": 12,
      "outputs": []
    },
    {
      "cell_type": "code",
      "source": [
        "image_data = np.expand_dims(np.array(image_data), -1)\n",
        "meta_data = np.array(meta_data)\n",
        "labels = np.array(labels)"
      ],
      "metadata": {
        "id": "gZITjeeEqmzC"
      },
      "execution_count": 13,
      "outputs": []
    },
    {
      "cell_type": "markdown",
      "source": [
        "### 5. NORMALIZE META DATA"
      ],
      "metadata": {
        "id": "JAavv3dIjTbT"
      }
    },
    {
      "cell_type": "code",
      "source": [
        "scaler = StandardScaler()\n",
        "meta_data = scaler.fit_transform(meta_data)"
      ],
      "metadata": {
        "id": "Vvw44E98jPi-"
      },
      "execution_count": 14,
      "outputs": []
    },
    {
      "cell_type": "markdown",
      "source": [
        "### 6. TRAIN-VALIDATION SPLIT"
      ],
      "metadata": {
        "id": "JmS8OpTPjaSm"
      }
    },
    {
      "cell_type": "code",
      "source": [
        "X_img_train, X_img_val, X_meta_train, X_meta_val, y_train, y_val = train_test_split(\n",
        "    image_data, meta_data, labels,\n",
        "    test_size=0.2, stratify=labels, random_state=42\n",
        ")"
      ],
      "metadata": {
        "id": "iG2x_x0zjXFw"
      },
      "execution_count": 15,
      "outputs": []
    },
    {
      "cell_type": "markdown",
      "source": [
        "### 7. BUILD MULTIMODAL MODEL"
      ],
      "metadata": {
        "id": "D3aSqi0njgCl"
      }
    },
    {
      "cell_type": "code",
      "source": [
        "# data augmentation\n",
        "data_augmentation = tf.keras.Sequential([\n",
        "    layers.RandomFlip(\"horizontal\"),\n",
        "    layers.RandomRotation(0.1),\n",
        "    layers.RandomZoom(0.1),\n",
        "], name=\"data_augmentation\")"
      ],
      "metadata": {
        "id": "Mr51xrowjdGV"
      },
      "execution_count": 16,
      "outputs": []
    },
    {
      "cell_type": "code",
      "source": [
        "img_input = Input(shape=(img_height, img_width, 1), name=\"image_input\")"
      ],
      "metadata": {
        "id": "N1FwqoTFjm5u"
      },
      "execution_count": 17,
      "outputs": []
    },
    {
      "cell_type": "code",
      "source": [
        "# Convert grayscale to RGB for MobileNetV2\n",
        "x_img = layers.Concatenate()([img_input, img_input, img_input])\n",
        "x_img = data_augmentation(x_img)"
      ],
      "metadata": {
        "id": "nnibNyqIjqJc"
      },
      "execution_count": 18,
      "outputs": []
    },
    {
      "cell_type": "code",
      "source": [
        "# Pretrained feature extractor\n",
        "base_model = tf.keras.applications.MobileNetV2(\n",
        "    input_shape=(img_height, img_width, 3),\n",
        "    include_top=False,\n",
        "    weights='imagenet'\n",
        ")\n",
        "base_model.trainable = False"
      ],
      "metadata": {
        "colab": {
          "base_uri": "https://localhost:8080/"
        },
        "id": "_HIEVYvgjx4Z",
        "outputId": "5546f837-ecb1-4bde-bd2a-28093e2436cd"
      },
      "execution_count": 19,
      "outputs": [
        {
          "output_type": "stream",
          "name": "stdout",
          "text": [
            "Downloading data from https://storage.googleapis.com/tensorflow/keras-applications/mobilenet_v2/mobilenet_v2_weights_tf_dim_ordering_tf_kernels_1.0_128_no_top.h5\n",
            "\u001b[1m9406464/9406464\u001b[0m \u001b[32m━━━━━━━━━━━━━━━━━━━━\u001b[0m\u001b[37m\u001b[0m \u001b[1m1s\u001b[0m 0us/step\n"
          ]
        }
      ]
    },
    {
      "cell_type": "code",
      "source": [
        "x_img = base_model(x_img, training=False)\n",
        "x_img = layers.GlobalAveragePooling2D()(x_img)\n",
        "x_img = layers.Dropout(0.3)(x_img)  # Regularization"
      ],
      "metadata": {
        "id": "NYnOM-wKkAsf"
      },
      "execution_count": 20,
      "outputs": []
    },
    {
      "cell_type": "code",
      "source": [
        "meta_input = Input(shape=(3,), name=\"meta_input\")\n",
        "x_meta = layers.Dense(16, activation='relu',\n",
        "                      kernel_regularizer=regularizers.l2(1e-4))(meta_input)\n",
        "x_meta = layers.Dropout(0.5)(x_meta)"
      ],
      "metadata": {
        "id": "DvmV3hoEkEcF"
      },
      "execution_count": 21,
      "outputs": []
    },
    {
      "cell_type": "code",
      "source": [
        "# ATTENTION-BASED FUSION\n",
        "# 1. Project both features to same dimension\n",
        "proj_img = layers.Dense(32, activation='relu')(x_img)\n",
        "proj_meta = layers.Dense(32, activation='relu')(x_meta)\n",
        "\n",
        "# 2. Learn attention weights\n",
        "alpha_img = layers.Dense(1, activation='sigmoid')(proj_img)\n",
        "alpha_meta = layers.Dense(1, activation='sigmoid')(proj_meta)\n",
        "\n",
        "# 3. Apply weighting\n",
        "weighted_img = layers.Multiply()([proj_img, alpha_img])\n",
        "weighted_meta = layers.Multiply()([proj_meta, alpha_meta])\n",
        "\n",
        "# 4. Fuse both modalities\n",
        "fused = layers.Concatenate()([weighted_img, weighted_meta])\n",
        "fused = layers.Dense(32, activation='relu')(fused)\n",
        "fused = layers.Dropout(0.3)(fused)\n",
        "\n",
        "# 5. Final classification layer\n",
        "output = layers.Dense(1, activation='sigmoid')(fused)\n",
        "\n",
        "# 6. Build model\n",
        "model = Model(inputs=[img_input, meta_input], outputs=output)"
      ],
      "metadata": {
        "id": "_8xh8x4akIn4"
      },
      "execution_count": 22,
      "outputs": []
    },
    {
      "cell_type": "markdown",
      "source": [
        "### 8. COMPILE & TRAIN"
      ],
      "metadata": {
        "id": "3s27T2PikcvG"
      }
    },
    {
      "cell_type": "code",
      "source": [
        "optimizer = tf.keras.optimizers.Adam(learning_rate=1e-4)\n",
        "model.compile(optimizer=optimizer, loss='binary_crossentropy', metrics=['accuracy'])"
      ],
      "metadata": {
        "id": "B9Iqu6SFmLAI"
      },
      "execution_count": 23,
      "outputs": []
    },
    {
      "cell_type": "code",
      "source": [
        "# Compute class weights for imbalanced dataset\n",
        "class_weights = class_weight.compute_class_weight(\n",
        "    class_weight='balanced', classes=np.unique(labels), y=labels\n",
        ")\n",
        "class_weights = dict(enumerate(class_weights))"
      ],
      "metadata": {
        "id": "8BYf5rNvrAFE"
      },
      "execution_count": 24,
      "outputs": []
    },
    {
      "cell_type": "code",
      "source": [
        "# Early stopping\n",
        "early_stopping = tf.keras.callbacks.EarlyStopping(\n",
        "    monitor='val_loss', patience=5, restore_best_weights=True\n",
        ")"
      ],
      "metadata": {
        "id": "Tniwn961q6fH"
      },
      "execution_count": 25,
      "outputs": []
    },
    {
      "cell_type": "code",
      "source": [
        "# Train model\n",
        "history = model.fit(\n",
        "    [X_img_train, X_meta_train], y_train,\n",
        "    validation_data=([X_img_val, X_meta_val], y_val),\n",
        "    epochs=10,\n",
        "    batch_size=16,\n",
        "    class_weight=class_weights,\n",
        "    callbacks=[early_stopping],\n",
        "    verbose=1\n",
        ")"
      ],
      "metadata": {
        "colab": {
          "base_uri": "https://localhost:8080/"
        },
        "id": "3I82Hyb5qOnt",
        "outputId": "d2c7c7bf-9b2a-4239-cb8c-85d0c58531e1"
      },
      "execution_count": 26,
      "outputs": [
        {
          "output_type": "stream",
          "name": "stdout",
          "text": [
            "Epoch 1/10\n",
            "\u001b[1m11/11\u001b[0m \u001b[32m━━━━━━━━━━━━━━━━━━━━\u001b[0m\u001b[37m\u001b[0m \u001b[1m14s\u001b[0m 267ms/step - accuracy: 0.4524 - loss: 0.7067 - val_accuracy: 1.0000 - val_loss: 0.6198\n",
            "Epoch 2/10\n",
            "\u001b[1m11/11\u001b[0m \u001b[32m━━━━━━━━━━━━━━━━━━━━\u001b[0m\u001b[37m\u001b[0m \u001b[1m0s\u001b[0m 34ms/step - accuracy: 0.8301 - loss: 0.6046 - val_accuracy: 1.0000 - val_loss: 0.5813\n",
            "Epoch 3/10\n",
            "\u001b[1m11/11\u001b[0m \u001b[32m━━━━━━━━━━━━━━━━━━━━\u001b[0m\u001b[37m\u001b[0m \u001b[1m1s\u001b[0m 32ms/step - accuracy: 0.8214 - loss: 0.5931 - val_accuracy: 1.0000 - val_loss: 0.5345\n",
            "Epoch 4/10\n",
            "\u001b[1m11/11\u001b[0m \u001b[32m━━━━━━━━━━━━━━━━━━━━\u001b[0m\u001b[37m\u001b[0m \u001b[1m0s\u001b[0m 33ms/step - accuracy: 0.9195 - loss: 0.5217 - val_accuracy: 1.0000 - val_loss: 0.4593\n",
            "Epoch 5/10\n",
            "\u001b[1m11/11\u001b[0m \u001b[32m━━━━━━━━━━━━━━━━━━━━\u001b[0m\u001b[37m\u001b[0m \u001b[1m1s\u001b[0m 32ms/step - accuracy: 0.9544 - loss: 0.4389 - val_accuracy: 1.0000 - val_loss: 0.3557\n",
            "Epoch 6/10\n",
            "\u001b[1m11/11\u001b[0m \u001b[32m━━━━━━━━━━━━━━━━━━━━\u001b[0m\u001b[37m\u001b[0m \u001b[1m0s\u001b[0m 33ms/step - accuracy: 0.9956 - loss: 0.3086 - val_accuracy: 1.0000 - val_loss: 0.2541\n",
            "Epoch 7/10\n",
            "\u001b[1m11/11\u001b[0m \u001b[32m━━━━━━━━━━━━━━━━━━━━\u001b[0m\u001b[37m\u001b[0m \u001b[1m1s\u001b[0m 32ms/step - accuracy: 0.9838 - loss: 0.2415 - val_accuracy: 1.0000 - val_loss: 0.1696\n",
            "Epoch 8/10\n",
            "\u001b[1m11/11\u001b[0m \u001b[32m━━━━━━━━━━━━━━━━━━━━\u001b[0m\u001b[37m\u001b[0m \u001b[1m1s\u001b[0m 34ms/step - accuracy: 0.9728 - loss: 0.1828 - val_accuracy: 1.0000 - val_loss: 0.1096\n",
            "Epoch 9/10\n",
            "\u001b[1m11/11\u001b[0m \u001b[32m━━━━━━━━━━━━━━━━━━━━\u001b[0m\u001b[37m\u001b[0m \u001b[1m0s\u001b[0m 35ms/step - accuracy: 0.9973 - loss: 0.1111 - val_accuracy: 1.0000 - val_loss: 0.0724\n",
            "Epoch 10/10\n",
            "\u001b[1m11/11\u001b[0m \u001b[32m━━━━━━━━━━━━━━━━━━━━\u001b[0m\u001b[37m\u001b[0m \u001b[1m1s\u001b[0m 34ms/step - accuracy: 1.0000 - loss: 0.0721 - val_accuracy: 1.0000 - val_loss: 0.0505\n"
          ]
        }
      ]
    },
    {
      "cell_type": "markdown",
      "source": [
        "### 9 VISUALISATION OF RESULT"
      ],
      "metadata": {
        "id": "ro9AzAvIsaYP"
      }
    },
    {
      "cell_type": "code",
      "source": [
        "bplt.figure(figsize=(8, 4))\n",
        "plt.plot(history.history['accuracy'], label='Train Acc')\n",
        "plt.plot(history.history['val_accuracy'], label='Val Acc')\n",
        "plt.title(\"Training vs Validation Accuracy\")\n",
        "plt.xlabel(\"Epochs\")\n",
        "plt.ylabel(\"Accuracy\")\n",
        "plt.legend()\n",
        "plt.show()"
      ],
      "metadata": {
        "colab": {
          "base_uri": "https://localhost:8080/",
          "height": 410
        },
        "id": "KaXFDm9rrRHI",
        "outputId": "9cdd0398-df54-4878-e5c2-066366badc1b"
      },
      "execution_count": 27,
      "outputs": [
        {
          "output_type": "display_data",
          "data": {
            "text/plain": [
              "<Figure size 800x400 with 1 Axes>"
            ],
            "image/png": "[encoded data removed]"
          },
          "metadata": {}
        }
      ]
    },
    {
      "cell_type": "markdown",
      "source": [
        "### 10 SAVE MODEL & SCALER"
      ],
      "metadata": {
        "id": "PY8PSp7TtIxt"
      }
    },
    {
      "cell_type": "code",
      "source": [
        "# save model\n",
        "model_save_path = \"/content/drive/MyDrive/autism_multimodal_model.keras\"\n",
        "model.save(model_save_path)\n",
        "print(f\"Model saved to {model_save_path} (native Keras format)\")\n",
        "\n",
        "# save scaler\n",
        "scaler_save_path = \"/content/drive/MyDrive/meta_scaler.pkl\"\n",
        "with open(scaler_save_path, \"wb\") as f:\n",
        "    pickle.dump(scaler, f)\n",
        "print(f\"Scaler saved to {scaler_save_path} (pickle format)\")"
      ],
      "metadata": {
        "colab": {
          "base_uri": "https://localhost:8080/"
        },
        "id": "hY_SS3yMtHMS",
        "outputId": "14c6d76c-8c29-4088-950d-caa68b441086"
      },
      "execution_count": 32,
      "outputs": [
        {
          "output_type": "stream",
          "name": "stdout",
          "text": [
            "Model saved to /content/drive/MyDrive/autism_multimodal_model.keras (native Keras format)\n",
            "Scaler saved to /content/drive/MyDrive/meta_scaler.pkl (pickle format)\n"
          ]
        }
      ]
    },
    {
      "cell_type": "markdown",
      "source": [
        "### 11 LOAD MODEL"
      ],
      "metadata": {
        "id": "VR0nBMGSvLQ7"
      }
    },
    {
      "cell_type": "code",
      "source": [
        "model_save_path = \"/content/drive/MyDrive/autism_multimodal_model.keras\"\n",
        "scaler_save_path = \"/content/drive/MyDrive/meta_scaler.pkl\"\n",
        "\n",
        "# Load model\n",
        "model = load_model(model_save_path)\n",
        "print(\"Model loaded successfully\")\n",
        "\n",
        "# Load scaler\n",
        "with open(scaler_save_path, \"rb\") as f:\n",
        "    scaler = pickle.load(f)\n",
        "print(\"Scaler loaded successfully\")"
      ],
      "metadata": {
        "colab": {
          "base_uri": "https://localhost:8080/"
        },
        "id": "cnC5vfuktLW4",
        "outputId": "f44413d5-d83c-46af-da1a-5dc251050a6b"
      },
      "execution_count": 35,
      "outputs": [
        {
          "output_type": "stream",
          "name": "stdout",
          "text": [
            "Model loaded successfully\n",
            "Scaler loaded successfully\n"
          ]
        },
        {
          "output_type": "stream",
          "name": "stderr",
          "text": [
            "/usr/local/lib/python3.12/dist-packages/keras/src/saving/saving_lib.py:802: UserWarning: Skipping variable loading for optimizer 'rmsprop', because it has 16 variables whereas the saved optimizer has 30 variables. \n",
            "  saveable.load_own_variables(weights_store.get(inner_path))\n"
          ]
        }
      ]
    },
    {
      "cell_type": "markdown",
      "source": [
        "### PREDICTION USING RANDOM IMAGES"
      ],
      "metadata": {
        "id": "PpmAvTCGwZlQ"
      }
    },
    {
      "cell_type": "code",
      "source": [
        "uploaded = files.upload()\n",
        "\n",
        "for fname in uploaded.keys():\n",
        "    img_path = fname\n",
        "    # Load image in grayscale\n",
        "    img = cv2.imread(img_path, cv2.IMREAD_GRAYSCALE)\n",
        "    img_height, img_width = 128, 128\n",
        "    img = cv2.resize(img, (img_width, img_height))\n",
        "    img = img / 255.0\n",
        "    img = np.expand_dims(img, axis=(0,-1))\n",
        "\n",
        "    # meta data\n",
        "    sample_meta = np.array([[12, 1, 32.5]], dtype=np.float32)\n",
        "    sample_meta = scaler.transform(sample_meta)\n",
        "\n",
        "    # prediction\n",
        "    pred = model.predict([img, sample_meta])\n",
        "    prob = float(pred[0][0])\n",
        "    cls = \"TS (Autism)\" if prob > 0.5 else \"TC (Control)\"\n",
        "\n",
        "    print(f\"Predicted Probability: {prob:.4f}\")\n",
        "    print(f\"Predicted Class: {cls}\")"
      ],
      "metadata": {
        "colab": {
          "base_uri": "https://localhost:8080/",
          "height": 120
        },
        "id": "M5eHyeV-vOb-",
        "outputId": "a547f092-652e-4413-af5b-b8bc5d1154cf"
      },
      "execution_count": 39,
      "outputs": [
        {
          "output_type": "display_data",
          "data": {
            "text/plain": [
              "<IPython.core.display.HTML object>"
            ],
            "text/html": [
              "\n",
              "     <input type=\"file\" id=\"files-2ece1d4a-0b1e-48ef-8472-135c2dfaa29e\" name=\"files[]\" multiple disabled\n",
              "        style=\"border:none\" />\n",
              "     <output id=\"result-2ece1d4a-0b1e-48ef-8472-135c2dfaa29e\">\n",
              "      Upload widget is only available when the cell has been executed in the\n",
              "      current browser session. Please rerun this cell to enable.\n",
              "      </output>\n",
              "      <script>// Copyright 2017 Google LLC\n",
              "//\n",
              "// Licensed under the Apache License, Version 2.0 (the \"License\");\n",
              "// you may not use this file except in compliance with the License.\n",
              "// You may obtain a copy of the License at\n",
              "//\n",
              "//      http://www.apache.org/licenses/LICENSE-2.0\n",
              "//\n",
              "// Unless required by applicable law or agreed to in writing, software\n",
              "// distributed under the License is distributed on an \"AS IS\" BASIS,\n",
              "// WITHOUT WARRANTIES OR CONDITIONS OF ANY KIND, either express or implied.\n",
              "// See the License for the specific language governing permissions and\n",
              "// limitations under the License.\n",
              "\n",
              "/**\n",
              " * @fileoverview Helpers for google.colab Python module.\n",
              " */\n",
              "(function(scope) {\n",
              "function span(text, styleAttributes = {}) {\n",
              "  const element = document.createElement('span');\n",
              "  element.textContent = text;\n",
              "  for (const key of Object.keys(styleAttributes)) {\n",
              "    element.style[key] = styleAttributes[key];\n",
              "  }\n",
              "  return element;\n",
              "}\n",
              "\n",
              "// Max number of bytes which will be uploaded at a time.\n",
              "const MAX_PAYLOAD_SIZE = 100 * 1024;\n",
              "\n",
              "function _uploadFiles(inputId, outputId) {\n",
              "  const steps = uploadFilesStep(inputId, outputId);\n",
              "  const outputElement = document.getElementById(outputId);\n",
              "  // Cache steps on the outputElement to make it available for the next call\n",
              "  // to uploadFilesContinue from Python.\n",
              "  outputElement.steps = steps;\n",
              "\n",
              "  return _uploadFilesContinue(outputId);\n",
              "}\n",
              "\n",
              "// This is roughly an async generator (not supported in the browser yet),\n",
              "// where there are multiple asynchronous steps and the Python side is going\n",
              "// to poll for completion of each step.\n",
              "// This uses a Promise to block the python side on completion of each step,\n",
              "// then passes the result of the previous step as the input to the next step.\n",
              "function _uploadFilesContinue(outputId) {\n",
              "  const outputElement = document.getElementById(outputId);\n",
              "  const steps = outputElement.steps;\n",
              "\n",
              "  const next = steps.next(outputElement.lastPromiseValue);\n",
              "  return Promise.resolve(next.value.promise).then((value) => {\n",
              "    // Cache the last promise value to make it available to the next\n",
              "    // step of the generator.\n",
              "    outputElement.lastPromiseValue = value;\n",
              "    return next.value.response;\n",
              "  });\n",
              "}\n",
              "\n",
              "/**\n",
              " * Generator function which is called between each async step of the upload\n",
              " * process.\n",
              " * @param {string} inputId Element ID of the input file picker element.\n",
              " * @param {string} outputId Element ID of the output display.\n",
              " * @return {!Iterable<!Object>} Iterable of next steps.\n",
              " */\n",
              "function* uploadFilesStep(inputId, outputId) {\n",
              "  const inputElement = document.getElementById(inputId);\n",
              "  inputElement.disabled = false;\n",
              "\n",
              "  const outputElement = document.getElementById(outputId);\n",
              "  outputElement.innerHTML = '';\n",
              "\n",
              "  const pickedPromise = new Promise((resolve) => {\n",
              "    inputElement.addEventListener('change', (e) => {\n",
              "      resolve(e.target.files);\n",
              "    });\n",
              "  });\n",
              "\n",
              "  const cancel = document.createElement('button');\n",
              "  inputElement.parentElement.appendChild(cancel);\n",
              "  cancel.textContent = 'Cancel upload';\n",
              "  const cancelPromise = new Promise((resolve) => {\n",
              "    cancel.onclick = () => {\n",
              "      resolve(null);\n",
              "    };\n",
              "  });\n",
              "\n",
              "  // Wait for the user to pick the files.\n",
              "  const files = yield {\n",
              "    promise: Promise.race([pickedPromise, cancelPromise]),\n",
              "    response: {\n",
              "      action: 'starting',\n",
              "    }\n",
              "  };\n",
              "\n",
              "  cancel.remove();\n",
              "\n",
              "  // Disable the input element since further picks are not allowed.\n",
              "  inputElement.disabled = true;\n",
              "\n",
              "  if (!files) {\n",
              "    return {\n",
              "      response: {\n",
              "        action: 'complete',\n",
              "      }\n",
              "    };\n",
              "  }\n",
              "\n",
              "  for (const file of files) {\n",
              "    const li = document.createElement('li');\n",
              "    li.append(span(file.name, {fontWeight: 'bold'}));\n",
              "    li.append(span(\n",
              "        `(${file.type || 'n/a'}) - ${file.size} bytes, ` +\n",
              "        `last modified: ${\n",
              "            file.lastModifiedDate ? file.lastModifiedDate.toLocaleDateString() :\n",
              "                                    'n/a'} - `));\n",
              "    const percent = span('0% done');\n",
              "    li.appendChild(percent);\n",
              "\n",
              "    outputElement.appendChild(li);\n",
              "\n",
              "    const fileDataPromise = new Promise((resolve) => {\n",
              "      const reader = new FileReader();\n",
              "      reader.onload = (e) => {\n",
              "        resolve(e.target.result);\n",
              "      };\n",
              "      reader.readAsArrayBuffer(file);\n",
              "    });\n",
              "    // Wait for the data to be ready.\n",
              "    let fileData = yield {\n",
              "      promise: fileDataPromise,\n",
              "      response: {\n",
              "        action: 'continue',\n",
              "      }\n",
              "    };\n",
              "\n",
              "    // Use a chunked sending to avoid message size limits. See b/62115660.\n",
              "    let position = 0;\n",
              "    do {\n",
              "      const length = Math.min(fileData.byteLength - position, MAX_PAYLOAD_SIZE);\n",
              "      const chunk = new Uint8Array(fileData, position, length);\n",
              "      position += length;\n",
              "\n",
              "      const base64 = btoa(String.fromCharCode.apply(null, chunk));\n",
              "      yield {\n",
              "        response: {\n",
              "          action: 'append',\n",
              "          file: file.name,\n",
              "          data: base64,\n",
              "        },\n",
              "      };\n",
              "\n",
              "      let percentDone = fileData.byteLength === 0 ?\n",
              "          100 :\n",
              "          Math.round((position / fileData.byteLength) * 100);\n",
              "      percent.textContent = `${percentDone}% done`;\n",
              "\n",
              "    } while (position < fileData.byteLength);\n",
              "  }\n",
              "\n",
              "  // All done.\n",
              "  yield {\n",
              "    response: {\n",
              "      action: 'complete',\n",
              "    }\n",
              "  };\n",
              "}\n",
              "\n",
              "scope.google = scope.google || {};\n",
              "scope.google.colab = scope.google.colab || {};\n",
              "scope.google.colab._files = {\n",
              "  _uploadFiles,\n",
              "  _uploadFilesContinue,\n",
              "};\n",
              "})(self);\n",
              "</script> "
            ]
          },
          "metadata": {}
        },
        {
          "output_type": "stream",
          "name": "stdout",
          "text": [
            "Saving TS002_11.png to TS002_11.png\n",
            "\u001b[1m1/1\u001b[0m \u001b[32m━━━━━━━━━━━━━━━━━━━━\u001b[0m\u001b[37m\u001b[0m \u001b[1m1s\u001b[0m 1s/step\n",
            "Predicted Probability: 0.9143\n",
            "Predicted Class: TS (Autism)\n"
          ]
        }
      ]
    }
  ]
}